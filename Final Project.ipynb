{
 "cells": [
  {
   "cell_type": "code",
   "execution_count": 2,
   "metadata": {
    "executionInfo": {
     "elapsed": 308,
     "status": "ok",
     "timestamp": 1601950755944,
     "user": {
      "displayName": "Janelle Clarke Smith",
      "photoUrl": "https://lh3.googleusercontent.com/a-/AOh14GjMFmy2cFXTOrUMcJFs2itQXr2r-Zv5eFEMS2bp=s64",
      "userId": "08653829567306435222"
     },
     "user_tz": 240
    },
    "id": "EmNj7xcT3N9t"
   },
   "outputs": [],
   "source": [
    "import jovian"
   ]
  },
  {
   "cell_type": "code",
   "execution_count": 3,
   "metadata": {
    "colab": {
     "base_uri": "https://localhost:8080/",
     "height": 120
    },
    "executionInfo": {
     "elapsed": 7381,
     "status": "ok",
     "timestamp": 1601950766103,
     "user": {
      "displayName": "Janelle Clarke Smith",
      "photoUrl": "https://lh3.googleusercontent.com/a-/AOh14GjMFmy2cFXTOrUMcJFs2itQXr2r-Zv5eFEMS2bp=s64",
      "userId": "08653829567306435222"
     },
     "user_tz": 240
    },
    "id": "L41bpmQJ3N9w",
    "outputId": "8c0160f8-31f9-4204-c686-798a9635934a"
   },
   "outputs": [
    {
     "name": "stdout",
     "output_type": "stream",
     "text": [
      "[jovian] Detected Colab notebook...\u001b[0m\n",
      "[jovian] Please enter your API key ( from https://jovian.ml/ ):\u001b[0m\n",
      "API KEY: ··········\n",
      "[jovian] Uploading colab notebook to Jovian...\u001b[0m\n",
      "[jovian] Committed successfully! https://jovian.ml/janelle-aclarke10/pandas-final-assignment2\u001b[0m\n"
     ]
    },
    {
     "data": {
      "application/vnd.google.colaboratory.intrinsic+json": {
       "type": "string"
      },
      "text/plain": [
       "'https://jovian.ml/janelle-aclarke10/pandas-final-assignment2'"
      ]
     },
     "execution_count": 3,
     "metadata": {
      "tags": []
     },
     "output_type": "execute_result"
    }
   ],
   "source": [
    "jovian.commit(project='pandas-final-assignment2', environment=None)"
   ]
  },
  {
   "cell_type": "code",
   "execution_count": 4,
   "metadata": {
    "executionInfo": {
     "elapsed": 351,
     "status": "ok",
     "timestamp": 1601950769451,
     "user": {
      "displayName": "Janelle Clarke Smith",
      "photoUrl": "https://lh3.googleusercontent.com/a-/AOh14GjMFmy2cFXTOrUMcJFs2itQXr2r-Zv5eFEMS2bp=s64",
      "userId": "08653829567306435222"
     },
     "user_tz": 240
    },
    "id": "0YRkMI5y3N91"
   },
   "outputs": [],
   "source": [
    "import pandas as pd"
   ]
  },
  {
   "cell_type": "code",
   "execution_count": 5,
   "metadata": {
    "executionInfo": {
     "elapsed": 480,
     "status": "ok",
     "timestamp": 1601950771321,
     "user": {
      "displayName": "Janelle Clarke Smith",
      "photoUrl": "https://lh3.googleusercontent.com/a-/AOh14GjMFmy2cFXTOrUMcJFs2itQXr2r-Zv5eFEMS2bp=s64",
      "userId": "08653829567306435222"
     },
     "user_tz": 240
    },
    "id": "Lt40QAY24Dfl"
   },
   "outputs": [],
   "source": [
    "happy_df = pd.read_csv('2020WorldHappinessReport.csv')"
   ]
  },
  {
   "cell_type": "code",
   "execution_count": 6,
   "metadata": {
    "colab": {
     "base_uri": "https://localhost:8080/",
     "height": 456
    },
    "executionInfo": {
     "elapsed": 493,
     "status": "ok",
     "timestamp": 1601950775252,
     "user": {
      "displayName": "Janelle Clarke Smith",
      "photoUrl": "https://lh3.googleusercontent.com/a-/AOh14GjMFmy2cFXTOrUMcJFs2itQXr2r-Zv5eFEMS2bp=s64",
      "userId": "08653829567306435222"
     },
     "user_tz": 240
    },
    "id": "4NfLqlXy6slQ",
    "outputId": "b3545626-076d-468c-dc56-c3b95d6e5e7d"
   },
   "outputs": [
    {
     "data": {
      "text/html": [
       "<div>\n",
       "<style scoped>\n",
       "    .dataframe tbody tr th:only-of-type {\n",
       "        vertical-align: middle;\n",
       "    }\n",
       "\n",
       "    .dataframe tbody tr th {\n",
       "        vertical-align: top;\n",
       "    }\n",
       "\n",
       "    .dataframe thead th {\n",
       "        text-align: right;\n",
       "    }\n",
       "</style>\n",
       "<table border=\"1\" class=\"dataframe\">\n",
       "  <thead>\n",
       "    <tr style=\"text-align: right;\">\n",
       "      <th></th>\n",
       "      <th>CountryName</th>\n",
       "      <th>RegionalIndicator</th>\n",
       "      <th>LadderScore</th>\n",
       "      <th>SocialSupport</th>\n",
       "      <th>HealthyLifeExpectancy</th>\n",
       "      <th>FreedomToMakeLifehoices</th>\n",
       "      <th>Generosity</th>\n",
       "      <th>PerceptionsOfCorruption</th>\n",
       "      <th>GDPPerCapita</th>\n",
       "    </tr>\n",
       "  </thead>\n",
       "  <tbody>\n",
       "    <tr>\n",
       "      <th>0</th>\n",
       "      <td>Finland</td>\n",
       "      <td>Western Europe</td>\n",
       "      <td>7.8087</td>\n",
       "      <td>0.954330</td>\n",
       "      <td>71.900825</td>\n",
       "      <td>0.949172</td>\n",
       "      <td>-0.059482</td>\n",
       "      <td>0.195445</td>\n",
       "      <td>1.285190</td>\n",
       "    </tr>\n",
       "    <tr>\n",
       "      <th>1</th>\n",
       "      <td>Denmark</td>\n",
       "      <td>Western Europe</td>\n",
       "      <td>7.6456</td>\n",
       "      <td>0.955991</td>\n",
       "      <td>72.402504</td>\n",
       "      <td>0.951444</td>\n",
       "      <td>0.066202</td>\n",
       "      <td>0.168489</td>\n",
       "      <td>1.326949</td>\n",
       "    </tr>\n",
       "    <tr>\n",
       "      <th>2</th>\n",
       "      <td>Switzerland</td>\n",
       "      <td>Western Europe</td>\n",
       "      <td>7.5599</td>\n",
       "      <td>0.942847</td>\n",
       "      <td>74.102448</td>\n",
       "      <td>0.921337</td>\n",
       "      <td>0.105911</td>\n",
       "      <td>0.303728</td>\n",
       "      <td>1.390774</td>\n",
       "    </tr>\n",
       "    <tr>\n",
       "      <th>3</th>\n",
       "      <td>Iceland</td>\n",
       "      <td>Western Europe</td>\n",
       "      <td>7.5045</td>\n",
       "      <td>0.974670</td>\n",
       "      <td>73.000000</td>\n",
       "      <td>0.948892</td>\n",
       "      <td>0.246944</td>\n",
       "      <td>0.711710</td>\n",
       "      <td>1.326502</td>\n",
       "    </tr>\n",
       "    <tr>\n",
       "      <th>4</th>\n",
       "      <td>Norway</td>\n",
       "      <td>Western Europe</td>\n",
       "      <td>7.4880</td>\n",
       "      <td>0.952487</td>\n",
       "      <td>73.200783</td>\n",
       "      <td>0.955750</td>\n",
       "      <td>0.134533</td>\n",
       "      <td>0.263218</td>\n",
       "      <td>1.424207</td>\n",
       "    </tr>\n",
       "    <tr>\n",
       "      <th>...</th>\n",
       "      <td>...</td>\n",
       "      <td>...</td>\n",
       "      <td>...</td>\n",
       "      <td>...</td>\n",
       "      <td>...</td>\n",
       "      <td>...</td>\n",
       "      <td>...</td>\n",
       "      <td>...</td>\n",
       "      <td>...</td>\n",
       "    </tr>\n",
       "    <tr>\n",
       "      <th>148</th>\n",
       "      <td>Central African Republic</td>\n",
       "      <td>Sub-Saharan Africa</td>\n",
       "      <td>3.4759</td>\n",
       "      <td>0.319460</td>\n",
       "      <td>45.200001</td>\n",
       "      <td>0.640881</td>\n",
       "      <td>0.082410</td>\n",
       "      <td>0.891807</td>\n",
       "      <td>0.041072</td>\n",
       "    </tr>\n",
       "    <tr>\n",
       "      <th>149</th>\n",
       "      <td>Rwanda</td>\n",
       "      <td>Sub-Saharan Africa</td>\n",
       "      <td>3.3123</td>\n",
       "      <td>0.540835</td>\n",
       "      <td>61.098846</td>\n",
       "      <td>0.900589</td>\n",
       "      <td>0.055484</td>\n",
       "      <td>0.183541</td>\n",
       "      <td>0.343243</td>\n",
       "    </tr>\n",
       "    <tr>\n",
       "      <th>150</th>\n",
       "      <td>Zimbabwe</td>\n",
       "      <td>Sub-Saharan Africa</td>\n",
       "      <td>3.2992</td>\n",
       "      <td>0.763093</td>\n",
       "      <td>55.617260</td>\n",
       "      <td>0.711458</td>\n",
       "      <td>-0.072064</td>\n",
       "      <td>0.810237</td>\n",
       "      <td>0.425564</td>\n",
       "    </tr>\n",
       "    <tr>\n",
       "      <th>151</th>\n",
       "      <td>South Sudan</td>\n",
       "      <td>Sub-Saharan Africa</td>\n",
       "      <td>2.8166</td>\n",
       "      <td>0.553707</td>\n",
       "      <td>51.000000</td>\n",
       "      <td>0.451314</td>\n",
       "      <td>0.016519</td>\n",
       "      <td>0.763417</td>\n",
       "      <td>0.289083</td>\n",
       "    </tr>\n",
       "    <tr>\n",
       "      <th>152</th>\n",
       "      <td>Afghanistan</td>\n",
       "      <td>South Asia</td>\n",
       "      <td>2.5669</td>\n",
       "      <td>0.470367</td>\n",
       "      <td>52.590000</td>\n",
       "      <td>0.396573</td>\n",
       "      <td>-0.096429</td>\n",
       "      <td>0.933687</td>\n",
       "      <td>0.300706</td>\n",
       "    </tr>\n",
       "  </tbody>\n",
       "</table>\n",
       "<p>153 rows × 9 columns</p>\n",
       "</div>"
      ],
      "text/plain": [
       "                  CountryName  ...  GDPPerCapita\n",
       "0                     Finland  ...      1.285190\n",
       "1                     Denmark  ...      1.326949\n",
       "2                 Switzerland  ...      1.390774\n",
       "3                     Iceland  ...      1.326502\n",
       "4                      Norway  ...      1.424207\n",
       "..                        ...  ...           ...\n",
       "148  Central African Republic  ...      0.041072\n",
       "149                    Rwanda  ...      0.343243\n",
       "150                  Zimbabwe  ...      0.425564\n",
       "151               South Sudan  ...      0.289083\n",
       "152               Afghanistan  ...      0.300706\n",
       "\n",
       "[153 rows x 9 columns]"
      ]
     },
     "execution_count": 6,
     "metadata": {
      "tags": []
     },
     "output_type": "execute_result"
    }
   ],
   "source": [
    "happy_df"
   ]
  },
  {
   "cell_type": "markdown",
   "metadata": {
    "id": "6i5SuLQW9_Yo"
   },
   "source": [
    "**Information about this Data Set**"
   ]
  },
  {
   "cell_type": "markdown",
   "metadata": {
    "id": "_G2j9S0Z-MkO"
   },
   "source": [
    "Let's list the columns"
   ]
  },
  {
   "cell_type": "code",
   "execution_count": 7,
   "metadata": {
    "colab": {
     "base_uri": "https://localhost:8080/",
     "height": 85
    },
    "executionInfo": {
     "elapsed": 333,
     "status": "ok",
     "timestamp": 1601950780794,
     "user": {
      "displayName": "Janelle Clarke Smith",
      "photoUrl": "https://lh3.googleusercontent.com/a-/AOh14GjMFmy2cFXTOrUMcJFs2itQXr2r-Zv5eFEMS2bp=s64",
      "userId": "08653829567306435222"
     },
     "user_tz": 240
    },
    "id": "eWBN6IqN6w4D",
    "outputId": "92d9bffc-5f7d-455c-c81d-1f68522d7c9b"
   },
   "outputs": [
    {
     "data": {
      "text/plain": [
       "Index(['CountryName', 'RegionalIndicator', 'LadderScore', 'SocialSupport',\n",
       "       'HealthyLifeExpectancy', 'FreedomToMakeLifehoices', 'Generosity',\n",
       "       'PerceptionsOfCorruption', ' GDPPerCapita'],\n",
       "      dtype='object')"
      ]
     },
     "execution_count": 7,
     "metadata": {
      "tags": []
     },
     "output_type": "execute_result"
    }
   ],
   "source": [
    "happy_df.columns"
   ]
  },
  {
   "cell_type": "markdown",
   "metadata": {
    "id": "p4JNMcO8-ZRV"
   },
   "source": [
    "Let's find out the columns and rows"
   ]
  },
  {
   "cell_type": "code",
   "execution_count": 8,
   "metadata": {
    "colab": {
     "base_uri": "https://localhost:8080/",
     "height": 34
    },
    "executionInfo": {
     "elapsed": 305,
     "status": "ok",
     "timestamp": 1601950782478,
     "user": {
      "displayName": "Janelle Clarke Smith",
      "photoUrl": "https://lh3.googleusercontent.com/a-/AOh14GjMFmy2cFXTOrUMcJFs2itQXr2r-Zv5eFEMS2bp=s64",
      "userId": "08653829567306435222"
     },
     "user_tz": 240
    },
    "id": "Hu0-OKbi9nLp",
    "outputId": "6443fffa-fa39-46c3-fb1d-b74bfd6d36d1"
   },
   "outputs": [
    {
     "data": {
      "text/plain": [
       "(153, 9)"
      ]
     },
     "execution_count": 8,
     "metadata": {
      "tags": []
     },
     "output_type": "execute_result"
    }
   ],
   "source": [
    "happy_df.shape"
   ]
  },
  {
   "cell_type": "markdown",
   "metadata": {
    "id": "Jacm0VUt-pz4"
   },
   "source": [
    "There are 153 rows and 9 columns"
   ]
  },
  {
   "cell_type": "markdown",
   "metadata": {
    "id": "OHRgZfvs-z6u"
   },
   "source": [
    "Let's see the columns types and if there are any nulls in the rows"
   ]
  },
  {
   "cell_type": "code",
   "execution_count": 9,
   "metadata": {
    "colab": {
     "base_uri": "https://localhost:8080/",
     "height": 289
    },
    "executionInfo": {
     "elapsed": 676,
     "status": "ok",
     "timestamp": 1601950787390,
     "user": {
      "displayName": "Janelle Clarke Smith",
      "photoUrl": "https://lh3.googleusercontent.com/a-/AOh14GjMFmy2cFXTOrUMcJFs2itQXr2r-Zv5eFEMS2bp=s64",
      "userId": "08653829567306435222"
     },
     "user_tz": 240
    },
    "id": "daSg1bI89n45",
    "outputId": "a6c61ce6-852d-4ab0-fe06-24114518d5b7"
   },
   "outputs": [
    {
     "name": "stdout",
     "output_type": "stream",
     "text": [
      "<class 'pandas.core.frame.DataFrame'>\n",
      "RangeIndex: 153 entries, 0 to 152\n",
      "Data columns (total 9 columns):\n",
      " #   Column                   Non-Null Count  Dtype  \n",
      "---  ------                   --------------  -----  \n",
      " 0   CountryName              153 non-null    object \n",
      " 1   RegionalIndicator        153 non-null    object \n",
      " 2   LadderScore              153 non-null    float64\n",
      " 3   SocialSupport            153 non-null    float64\n",
      " 4   HealthyLifeExpectancy    153 non-null    float64\n",
      " 5   FreedomToMakeLifehoices  153 non-null    float64\n",
      " 6   Generosity               153 non-null    float64\n",
      " 7   PerceptionsOfCorruption  153 non-null    float64\n",
      " 8    GDPPerCapita            153 non-null    float64\n",
      "dtypes: float64(7), object(2)\n",
      "memory usage: 10.9+ KB\n"
     ]
    }
   ],
   "source": [
    "happy_df.info()"
   ]
  },
  {
   "cell_type": "markdown",
   "metadata": {
    "id": "apFQ-r-o_kSR"
   },
   "source": [
    "Lastly, we will see a simple analysis of the numeric data"
   ]
  },
  {
   "cell_type": "code",
   "execution_count": 10,
   "metadata": {
    "colab": {
     "base_uri": "https://localhost:8080/",
     "height": 297
    },
    "executionInfo": {
     "elapsed": 392,
     "status": "ok",
     "timestamp": 1601950791285,
     "user": {
      "displayName": "Janelle Clarke Smith",
      "photoUrl": "https://lh3.googleusercontent.com/a-/AOh14GjMFmy2cFXTOrUMcJFs2itQXr2r-Zv5eFEMS2bp=s64",
      "userId": "08653829567306435222"
     },
     "user_tz": 240
    },
    "id": "QdU-sm3G9nkY",
    "outputId": "9b205836-6596-480b-d3fe-97d0a7b1a294"
   },
   "outputs": [
    {
     "data": {
      "text/html": [
       "<div>\n",
       "<style scoped>\n",
       "    .dataframe tbody tr th:only-of-type {\n",
       "        vertical-align: middle;\n",
       "    }\n",
       "\n",
       "    .dataframe tbody tr th {\n",
       "        vertical-align: top;\n",
       "    }\n",
       "\n",
       "    .dataframe thead th {\n",
       "        text-align: right;\n",
       "    }\n",
       "</style>\n",
       "<table border=\"1\" class=\"dataframe\">\n",
       "  <thead>\n",
       "    <tr style=\"text-align: right;\">\n",
       "      <th></th>\n",
       "      <th>LadderScore</th>\n",
       "      <th>SocialSupport</th>\n",
       "      <th>HealthyLifeExpectancy</th>\n",
       "      <th>FreedomToMakeLifehoices</th>\n",
       "      <th>Generosity</th>\n",
       "      <th>PerceptionsOfCorruption</th>\n",
       "      <th>GDPPerCapita</th>\n",
       "    </tr>\n",
       "  </thead>\n",
       "  <tbody>\n",
       "    <tr>\n",
       "      <th>count</th>\n",
       "      <td>153.00000</td>\n",
       "      <td>153.000000</td>\n",
       "      <td>153.000000</td>\n",
       "      <td>153.000000</td>\n",
       "      <td>153.000000</td>\n",
       "      <td>153.000000</td>\n",
       "      <td>153.000000</td>\n",
       "    </tr>\n",
       "    <tr>\n",
       "      <th>mean</th>\n",
       "      <td>5.47324</td>\n",
       "      <td>0.808721</td>\n",
       "      <td>64.445529</td>\n",
       "      <td>0.783360</td>\n",
       "      <td>-0.014568</td>\n",
       "      <td>0.733120</td>\n",
       "      <td>0.868771</td>\n",
       "    </tr>\n",
       "    <tr>\n",
       "      <th>std</th>\n",
       "      <td>1.11227</td>\n",
       "      <td>0.121453</td>\n",
       "      <td>7.057848</td>\n",
       "      <td>0.117786</td>\n",
       "      <td>0.151809</td>\n",
       "      <td>0.175172</td>\n",
       "      <td>0.372416</td>\n",
       "    </tr>\n",
       "    <tr>\n",
       "      <th>min</th>\n",
       "      <td>2.56690</td>\n",
       "      <td>0.319460</td>\n",
       "      <td>45.200001</td>\n",
       "      <td>0.396573</td>\n",
       "      <td>-0.300907</td>\n",
       "      <td>0.109784</td>\n",
       "      <td>0.000000</td>\n",
       "    </tr>\n",
       "    <tr>\n",
       "      <th>25%</th>\n",
       "      <td>4.72410</td>\n",
       "      <td>0.737217</td>\n",
       "      <td>58.961712</td>\n",
       "      <td>0.714839</td>\n",
       "      <td>-0.127015</td>\n",
       "      <td>0.683019</td>\n",
       "      <td>0.575862</td>\n",
       "    </tr>\n",
       "    <tr>\n",
       "      <th>50%</th>\n",
       "      <td>5.51500</td>\n",
       "      <td>0.829204</td>\n",
       "      <td>66.305145</td>\n",
       "      <td>0.799805</td>\n",
       "      <td>-0.033665</td>\n",
       "      <td>0.783122</td>\n",
       "      <td>0.918549</td>\n",
       "    </tr>\n",
       "    <tr>\n",
       "      <th>75%</th>\n",
       "      <td>6.22850</td>\n",
       "      <td>0.906747</td>\n",
       "      <td>69.289192</td>\n",
       "      <td>0.877709</td>\n",
       "      <td>0.085429</td>\n",
       "      <td>0.849151</td>\n",
       "      <td>1.169229</td>\n",
       "    </tr>\n",
       "    <tr>\n",
       "      <th>max</th>\n",
       "      <td>7.80870</td>\n",
       "      <td>0.974670</td>\n",
       "      <td>76.804581</td>\n",
       "      <td>0.974998</td>\n",
       "      <td>0.560664</td>\n",
       "      <td>0.935585</td>\n",
       "      <td>1.536676</td>\n",
       "    </tr>\n",
       "  </tbody>\n",
       "</table>\n",
       "</div>"
      ],
      "text/plain": [
       "       LadderScore  SocialSupport  ...  PerceptionsOfCorruption   GDPPerCapita\n",
       "count    153.00000     153.000000  ...               153.000000     153.000000\n",
       "mean       5.47324       0.808721  ...                 0.733120       0.868771\n",
       "std        1.11227       0.121453  ...                 0.175172       0.372416\n",
       "min        2.56690       0.319460  ...                 0.109784       0.000000\n",
       "25%        4.72410       0.737217  ...                 0.683019       0.575862\n",
       "50%        5.51500       0.829204  ...                 0.783122       0.918549\n",
       "75%        6.22850       0.906747  ...                 0.849151       1.169229\n",
       "max        7.80870       0.974670  ...                 0.935585       1.536676\n",
       "\n",
       "[8 rows x 7 columns]"
      ]
     },
     "execution_count": 10,
     "metadata": {
      "tags": []
     },
     "output_type": "execute_result"
    }
   ],
   "source": [
    "happy_df.describe()"
   ]
  },
  {
   "cell_type": "markdown",
   "metadata": {
    "id": "nkKNk4R49MtH"
   },
   "source": [
    "**Data Analysis**"
   ]
  },
  {
   "cell_type": "markdown",
   "metadata": {
    "id": "Xye8LLaZ9UKw"
   },
   "source": [
    "How countries participated in the Survey?"
   ]
  },
  {
   "cell_type": "code",
   "execution_count": 11,
   "metadata": {
    "colab": {
     "base_uri": "https://localhost:8080/",
     "height": 34
    },
    "executionInfo": {
     "elapsed": 448,
     "status": "ok",
     "timestamp": 1601950794988,
     "user": {
      "displayName": "Janelle Clarke Smith",
      "photoUrl": "https://lh3.googleusercontent.com/a-/AOh14GjMFmy2cFXTOrUMcJFs2itQXr2r-Zv5eFEMS2bp=s64",
      "userId": "08653829567306435222"
     },
     "user_tz": 240
    },
    "id": "d-S4dHhS7Vjj",
    "outputId": "3d532285-4b72-4b93-ce19-37fff4193c9b"
   },
   "outputs": [
    {
     "data": {
      "text/plain": [
       "153"
      ]
     },
     "execution_count": 11,
     "metadata": {
      "tags": []
     },
     "output_type": "execute_result"
    }
   ],
   "source": [
    "happy_df.shape[0]"
   ]
  },
  {
   "cell_type": "markdown",
   "metadata": {
    "id": "Wx2mDvC6AC5L"
   },
   "source": [
    "What are the regions of the countries and how many countries are in each region?"
   ]
  },
  {
   "cell_type": "code",
   "execution_count": 12,
   "metadata": {
    "executionInfo": {
     "elapsed": 308,
     "status": "ok",
     "timestamp": 1601950796913,
     "user": {
      "displayName": "Janelle Clarke Smith",
      "photoUrl": "https://lh3.googleusercontent.com/a-/AOh14GjMFmy2cFXTOrUMcJFs2itQXr2r-Zv5eFEMS2bp=s64",
      "userId": "08653829567306435222"
     },
     "user_tz": 240
    },
    "id": "bOdIgvUr9E6T"
   },
   "outputs": [],
   "source": [
    "Regions = happy_df['RegionalIndicator'].value_counts()"
   ]
  },
  {
   "cell_type": "code",
   "execution_count": 13,
   "metadata": {
    "colab": {
     "base_uri": "https://localhost:8080/",
     "height": 204
    },
    "executionInfo": {
     "elapsed": 317,
     "status": "ok",
     "timestamp": 1601950802241,
     "user": {
      "displayName": "Janelle Clarke Smith",
      "photoUrl": "https://lh3.googleusercontent.com/a-/AOh14GjMFmy2cFXTOrUMcJFs2itQXr2r-Zv5eFEMS2bp=s64",
      "userId": "08653829567306435222"
     },
     "user_tz": 240
    },
    "id": "LZu2w8vaBDbv",
    "outputId": "8b631efe-05a1-476e-9231-0ae151ba5c75"
   },
   "outputs": [
    {
     "name": "stdout",
     "output_type": "stream",
     "text": [
      "Sub-Saharan Africa                    39\n",
      "Western Europe                        21\n",
      "Latin America and Caribbean           21\n",
      "Middle East and North Africa          17\n",
      "Central and Eastern Europe            17\n",
      "Commonwealth of Independent States    12\n",
      "Southeast Asia                         9\n",
      "South Asia                             7\n",
      "East Asia                              6\n",
      "North America and ANZ                  4\n",
      "Name: RegionalIndicator, dtype: int64\n"
     ]
    }
   ],
   "source": [
    "print(Regions)"
   ]
  },
  {
   "cell_type": "markdown",
   "metadata": {
    "id": "J-ZIasxTCgF3"
   },
   "source": [
    "What is the average Happiness Score in the world?\n",
    "(We have to import Numpy to compute calculations)\n",
    "\n"
   ]
  },
  {
   "cell_type": "code",
   "execution_count": 14,
   "metadata": {
    "executionInfo": {
     "elapsed": 404,
     "status": "ok",
     "timestamp": 1601950805996,
     "user": {
      "displayName": "Janelle Clarke Smith",
      "photoUrl": "https://lh3.googleusercontent.com/a-/AOh14GjMFmy2cFXTOrUMcJFs2itQXr2r-Zv5eFEMS2bp=s64",
      "userId": "08653829567306435222"
     },
     "user_tz": 240
    },
    "id": "NvzG_ALFDJvS"
   },
   "outputs": [],
   "source": [
    "import numpy as np"
   ]
  },
  {
   "cell_type": "code",
   "execution_count": 15,
   "metadata": {
    "colab": {
     "base_uri": "https://localhost:8080/",
     "height": 34
    },
    "executionInfo": {
     "elapsed": 577,
     "status": "ok",
     "timestamp": 1601950807714,
     "user": {
      "displayName": "Janelle Clarke Smith",
      "photoUrl": "https://lh3.googleusercontent.com/a-/AOh14GjMFmy2cFXTOrUMcJFs2itQXr2r-Zv5eFEMS2bp=s64",
      "userId": "08653829567306435222"
     },
     "user_tz": 240
    },
    "id": "-MxTlOYNCoEv",
    "outputId": "7db80ac1-242f-4aca-a007-7624d4afd01b"
   },
   "outputs": [
    {
     "name": "stdout",
     "output_type": "stream",
     "text": [
      "5.473239862849674\n"
     ]
    }
   ],
   "source": [
    "AvgHappiness = np.average(happy_df['LadderScore']) \n",
    "print(AvgHappiness)"
   ]
  },
  {
   "cell_type": "markdown",
   "metadata": {
    "id": "D_GuSIFWFSw3"
   },
   "source": [
    "**How many countries are above the happiness average?"
   ]
  },
  {
   "cell_type": "code",
   "execution_count": 16,
   "metadata": {
    "executionInfo": {
     "elapsed": 385,
     "status": "ok",
     "timestamp": 1601950811227,
     "user": {
      "displayName": "Janelle Clarke Smith",
      "photoUrl": "https://lh3.googleusercontent.com/a-/AOh14GjMFmy2cFXTOrUMcJFs2itQXr2r-Zv5eFEMS2bp=s64",
      "userId": "08653829567306435222"
     },
     "user_tz": 240
    },
    "id": "HKq0DdYSwmwn"
   },
   "outputs": [],
   "source": [
    "HappyCountries = happy_df.LadderScore > AvgHappiness"
   ]
  },
  {
   "cell_type": "code",
   "execution_count": 17,
   "metadata": {
    "colab": {
     "base_uri": "https://localhost:8080/",
     "height": 507
    },
    "executionInfo": {
     "elapsed": 315,
     "status": "ok",
     "timestamp": 1601950813314,
     "user": {
      "displayName": "Janelle Clarke Smith",
      "photoUrl": "https://lh3.googleusercontent.com/a-/AOh14GjMFmy2cFXTOrUMcJFs2itQXr2r-Zv5eFEMS2bp=s64",
      "userId": "08653829567306435222"
     },
     "user_tz": 240
    },
    "id": "0z8XPSGebQEh",
    "outputId": "9ac4b3b7-817c-4525-ef64-03dce36a7ebf"
   },
   "outputs": [
    {
     "data": {
      "text/html": [
       "<div>\n",
       "<style scoped>\n",
       "    .dataframe tbody tr th:only-of-type {\n",
       "        vertical-align: middle;\n",
       "    }\n",
       "\n",
       "    .dataframe tbody tr th {\n",
       "        vertical-align: top;\n",
       "    }\n",
       "\n",
       "    .dataframe thead th {\n",
       "        text-align: right;\n",
       "    }\n",
       "</style>\n",
       "<table border=\"1\" class=\"dataframe\">\n",
       "  <thead>\n",
       "    <tr style=\"text-align: right;\">\n",
       "      <th></th>\n",
       "      <th>CountryName</th>\n",
       "      <th>RegionalIndicator</th>\n",
       "      <th>LadderScore</th>\n",
       "      <th>SocialSupport</th>\n",
       "      <th>HealthyLifeExpectancy</th>\n",
       "      <th>FreedomToMakeLifehoices</th>\n",
       "      <th>Generosity</th>\n",
       "      <th>PerceptionsOfCorruption</th>\n",
       "      <th>GDPPerCapita</th>\n",
       "    </tr>\n",
       "  </thead>\n",
       "  <tbody>\n",
       "    <tr>\n",
       "      <th>0</th>\n",
       "      <td>Finland</td>\n",
       "      <td>Western Europe</td>\n",
       "      <td>7.8087</td>\n",
       "      <td>0.954330</td>\n",
       "      <td>71.900825</td>\n",
       "      <td>0.949172</td>\n",
       "      <td>-0.059482</td>\n",
       "      <td>0.195445</td>\n",
       "      <td>1.285190</td>\n",
       "    </tr>\n",
       "    <tr>\n",
       "      <th>1</th>\n",
       "      <td>Denmark</td>\n",
       "      <td>Western Europe</td>\n",
       "      <td>7.6456</td>\n",
       "      <td>0.955991</td>\n",
       "      <td>72.402504</td>\n",
       "      <td>0.951444</td>\n",
       "      <td>0.066202</td>\n",
       "      <td>0.168489</td>\n",
       "      <td>1.326949</td>\n",
       "    </tr>\n",
       "    <tr>\n",
       "      <th>2</th>\n",
       "      <td>Switzerland</td>\n",
       "      <td>Western Europe</td>\n",
       "      <td>7.5599</td>\n",
       "      <td>0.942847</td>\n",
       "      <td>74.102448</td>\n",
       "      <td>0.921337</td>\n",
       "      <td>0.105911</td>\n",
       "      <td>0.303728</td>\n",
       "      <td>1.390774</td>\n",
       "    </tr>\n",
       "    <tr>\n",
       "      <th>3</th>\n",
       "      <td>Iceland</td>\n",
       "      <td>Western Europe</td>\n",
       "      <td>7.5045</td>\n",
       "      <td>0.974670</td>\n",
       "      <td>73.000000</td>\n",
       "      <td>0.948892</td>\n",
       "      <td>0.246944</td>\n",
       "      <td>0.711710</td>\n",
       "      <td>1.326502</td>\n",
       "    </tr>\n",
       "    <tr>\n",
       "      <th>4</th>\n",
       "      <td>Norway</td>\n",
       "      <td>Western Europe</td>\n",
       "      <td>7.4880</td>\n",
       "      <td>0.952487</td>\n",
       "      <td>73.200783</td>\n",
       "      <td>0.955750</td>\n",
       "      <td>0.134533</td>\n",
       "      <td>0.263218</td>\n",
       "      <td>1.424207</td>\n",
       "    </tr>\n",
       "    <tr>\n",
       "      <th>...</th>\n",
       "      <td>...</td>\n",
       "      <td>...</td>\n",
       "      <td>...</td>\n",
       "      <td>...</td>\n",
       "      <td>...</td>\n",
       "      <td>...</td>\n",
       "      <td>...</td>\n",
       "      <td>...</td>\n",
       "      <td>...</td>\n",
       "    </tr>\n",
       "    <tr>\n",
       "      <th>75</th>\n",
       "      <td>North Cyprus</td>\n",
       "      <td>Western Europe</td>\n",
       "      <td>5.5355</td>\n",
       "      <td>0.820357</td>\n",
       "      <td>73.702225</td>\n",
       "      <td>0.795294</td>\n",
       "      <td>0.000227</td>\n",
       "      <td>0.626116</td>\n",
       "      <td>1.212799</td>\n",
       "    </tr>\n",
       "    <tr>\n",
       "      <th>76</th>\n",
       "      <td>Greece</td>\n",
       "      <td>Western Europe</td>\n",
       "      <td>5.5150</td>\n",
       "      <td>0.814380</td>\n",
       "      <td>72.405258</td>\n",
       "      <td>0.541345</td>\n",
       "      <td>-0.300907</td>\n",
       "      <td>0.859931</td>\n",
       "      <td>1.128070</td>\n",
       "    </tr>\n",
       "    <tr>\n",
       "      <th>77</th>\n",
       "      <td>Hong Kong S.A.R. of China</td>\n",
       "      <td>East Asia</td>\n",
       "      <td>5.5104</td>\n",
       "      <td>0.845969</td>\n",
       "      <td>76.771706</td>\n",
       "      <td>0.779834</td>\n",
       "      <td>0.134980</td>\n",
       "      <td>0.420607</td>\n",
       "      <td>1.376746</td>\n",
       "    </tr>\n",
       "    <tr>\n",
       "      <th>78</th>\n",
       "      <td>Croatia</td>\n",
       "      <td>Central and Eastern Europe</td>\n",
       "      <td>5.5047</td>\n",
       "      <td>0.874624</td>\n",
       "      <td>70.214905</td>\n",
       "      <td>0.714839</td>\n",
       "      <td>-0.128538</td>\n",
       "      <td>0.916495</td>\n",
       "      <td>1.109024</td>\n",
       "    </tr>\n",
       "    <tr>\n",
       "      <th>79</th>\n",
       "      <td>Libya</td>\n",
       "      <td>Middle East and North Africa</td>\n",
       "      <td>5.4888</td>\n",
       "      <td>0.825943</td>\n",
       "      <td>62.299999</td>\n",
       "      <td>0.773157</td>\n",
       "      <td>-0.085054</td>\n",
       "      <td>0.668779</td>\n",
       "      <td>1.021914</td>\n",
       "    </tr>\n",
       "  </tbody>\n",
       "</table>\n",
       "<p>80 rows × 9 columns</p>\n",
       "</div>"
      ],
      "text/plain": [
       "                  CountryName  ...  GDPPerCapita\n",
       "0                     Finland  ...      1.285190\n",
       "1                     Denmark  ...      1.326949\n",
       "2                 Switzerland  ...      1.390774\n",
       "3                     Iceland  ...      1.326502\n",
       "4                      Norway  ...      1.424207\n",
       "..                        ...  ...           ...\n",
       "75               North Cyprus  ...      1.212799\n",
       "76                     Greece  ...      1.128070\n",
       "77  Hong Kong S.A.R. of China  ...      1.376746\n",
       "78                    Croatia  ...      1.109024\n",
       "79                      Libya  ...      1.021914\n",
       "\n",
       "[80 rows x 9 columns]"
      ]
     },
     "execution_count": 17,
     "metadata": {
      "tags": []
     },
     "output_type": "execute_result"
    }
   ],
   "source": [
    "happy_df[HappyCountries]"
   ]
  },
  {
   "cell_type": "markdown",
   "metadata": {
    "id": "L2BBp7toCL9T"
   },
   "source": [
    "**Exploratory Analysis and Visualization**"
   ]
  },
  {
   "cell_type": "code",
   "execution_count": 18,
   "metadata": {
    "executionInfo": {
     "elapsed": 745,
     "status": "ok",
     "timestamp": 1601950819543,
     "user": {
      "displayName": "Janelle Clarke Smith",
      "photoUrl": "https://lh3.googleusercontent.com/a-/AOh14GjMFmy2cFXTOrUMcJFs2itQXr2r-Zv5eFEMS2bp=s64",
      "userId": "08653829567306435222"
     },
     "user_tz": 240
    },
    "id": "mY-oW7SICK0p"
   },
   "outputs": [],
   "source": [
    "import seaborn as sns\n",
    "import matplotlib\n",
    "import matplotlib.pyplot as plt\n",
    "%matplotlib inline"
   ]
  },
  {
   "cell_type": "markdown",
   "metadata": {
    "id": "X3r5P8OI9tcl"
   },
   "source": [
    "How does Happiness relate to Corruption?"
   ]
  },
  {
   "cell_type": "code",
   "execution_count": 19,
   "metadata": {
    "colab": {
     "base_uri": "https://localhost:8080/",
     "height": 350
    },
    "executionInfo": {
     "elapsed": 552,
     "status": "ok",
     "timestamp": 1601950911030,
     "user": {
      "displayName": "Janelle Clarke Smith",
      "photoUrl": "https://lh3.googleusercontent.com/a-/AOh14GjMFmy2cFXTOrUMcJFs2itQXr2r-Zv5eFEMS2bp=s64",
      "userId": "08653829567306435222"
     },
     "user_tz": 240
    },
    "id": "OkcYr4qBDEgg",
    "outputId": "c26b1991-f258-40fe-82f5-2676931a0f11"
   },
   "outputs": [
    {
     "name": "stderr",
     "output_type": "stream",
     "text": [
      "/usr/local/lib/python3.6/dist-packages/seaborn/_decorators.py:43: FutureWarning: Pass the following variables as keyword args: x, y. From version 0.12, the only valid positional argument will be `data`, and passing other arguments without an explicit keyword will result in an error or misinterpretation.\n",
      "  FutureWarning\n"
     ]
    },
    {
     "data": {
      "text/plain": [
       "<matplotlib.axes._subplots.AxesSubplot at 0x7f56818c87b8>"
      ]
     },
     "execution_count": 19,
     "metadata": {
      "tags": []
     },
     "output_type": "execute_result"
    },
    {
     "data": {
      "image/png": "[encoded data removed]",
      "text/plain": [
       "<Figure size 432x288 with 1 Axes>"
      ]
     },
     "metadata": {
      "needs_background": "light",
      "tags": []
     },
     "output_type": "display_data"
    }
   ],
   "source": [
    "sns.scatterplot(happy_df.LadderScore, happy_df.PerceptionsOfCorruption)"
   ]
  },
  {
   "cell_type": "markdown",
   "metadata": {
    "id": "7aF86FCoEO4o"
   },
   "source": [
    "Based on this graph, it looks like most countries have a high perception of corruption and have a level of happiness."
   ]
  },
  {
   "cell_type": "markdown",
   "metadata": {
    "id": "Z3tDG4fch_PT"
   },
   "source": [
    "What are the top five happiest countries?"
   ]
  },
  {
   "cell_type": "code",
   "execution_count": 20,
   "metadata": {
    "executionInfo": {
     "elapsed": 337,
     "status": "ok",
     "timestamp": 1601950916992,
     "user": {
      "displayName": "Janelle Clarke Smith",
      "photoUrl": "https://lh3.googleusercontent.com/a-/AOh14GjMFmy2cFXTOrUMcJFs2itQXr2r-Zv5eFEMS2bp=s64",
      "userId": "08653829567306435222"
     },
     "user_tz": 240
    },
    "id": "zFo4phwaiUwR"
   },
   "outputs": [],
   "source": [
    "df_tophappy = happy_df.loc[happy_df.LadderScore >= 6].sort_values(by =\"LadderScore\", ascending = False).head(5)"
   ]
  },
  {
   "cell_type": "code",
   "execution_count": 21,
   "metadata": {
    "colab": {
     "base_uri": "https://localhost:8080/",
     "height": 224
    },
    "executionInfo": {
     "elapsed": 460,
     "status": "ok",
     "timestamp": 1601950922482,
     "user": {
      "displayName": "Janelle Clarke Smith",
      "photoUrl": "https://lh3.googleusercontent.com/a-/AOh14GjMFmy2cFXTOrUMcJFs2itQXr2r-Zv5eFEMS2bp=s64",
      "userId": "08653829567306435222"
     },
     "user_tz": 240
    },
    "id": "uw2qJJEdkhgl",
    "outputId": "ea243213-9093-4bc7-e4fc-afe85653ebae"
   },
   "outputs": [
    {
     "data": {
      "text/html": [
       "<div>\n",
       "<style scoped>\n",
       "    .dataframe tbody tr th:only-of-type {\n",
       "        vertical-align: middle;\n",
       "    }\n",
       "\n",
       "    .dataframe tbody tr th {\n",
       "        vertical-align: top;\n",
       "    }\n",
       "\n",
       "    .dataframe thead th {\n",
       "        text-align: right;\n",
       "    }\n",
       "</style>\n",
       "<table border=\"1\" class=\"dataframe\">\n",
       "  <thead>\n",
       "    <tr style=\"text-align: right;\">\n",
       "      <th></th>\n",
       "      <th>CountryName</th>\n",
       "      <th>RegionalIndicator</th>\n",
       "      <th>LadderScore</th>\n",
       "      <th>SocialSupport</th>\n",
       "      <th>HealthyLifeExpectancy</th>\n",
       "      <th>FreedomToMakeLifehoices</th>\n",
       "      <th>Generosity</th>\n",
       "      <th>PerceptionsOfCorruption</th>\n",
       "      <th>GDPPerCapita</th>\n",
       "    </tr>\n",
       "  </thead>\n",
       "  <tbody>\n",
       "    <tr>\n",
       "      <th>0</th>\n",
       "      <td>Finland</td>\n",
       "      <td>Western Europe</td>\n",
       "      <td>7.8087</td>\n",
       "      <td>0.954330</td>\n",
       "      <td>71.900825</td>\n",
       "      <td>0.949172</td>\n",
       "      <td>-0.059482</td>\n",
       "      <td>0.195445</td>\n",
       "      <td>1.285190</td>\n",
       "    </tr>\n",
       "    <tr>\n",
       "      <th>1</th>\n",
       "      <td>Denmark</td>\n",
       "      <td>Western Europe</td>\n",
       "      <td>7.6456</td>\n",
       "      <td>0.955991</td>\n",
       "      <td>72.402504</td>\n",
       "      <td>0.951444</td>\n",
       "      <td>0.066202</td>\n",
       "      <td>0.168489</td>\n",
       "      <td>1.326949</td>\n",
       "    </tr>\n",
       "    <tr>\n",
       "      <th>2</th>\n",
       "      <td>Switzerland</td>\n",
       "      <td>Western Europe</td>\n",
       "      <td>7.5599</td>\n",
       "      <td>0.942847</td>\n",
       "      <td>74.102448</td>\n",
       "      <td>0.921337</td>\n",
       "      <td>0.105911</td>\n",
       "      <td>0.303728</td>\n",
       "      <td>1.390774</td>\n",
       "    </tr>\n",
       "    <tr>\n",
       "      <th>3</th>\n",
       "      <td>Iceland</td>\n",
       "      <td>Western Europe</td>\n",
       "      <td>7.5045</td>\n",
       "      <td>0.974670</td>\n",
       "      <td>73.000000</td>\n",
       "      <td>0.948892</td>\n",
       "      <td>0.246944</td>\n",
       "      <td>0.711710</td>\n",
       "      <td>1.326502</td>\n",
       "    </tr>\n",
       "    <tr>\n",
       "      <th>4</th>\n",
       "      <td>Norway</td>\n",
       "      <td>Western Europe</td>\n",
       "      <td>7.4880</td>\n",
       "      <td>0.952487</td>\n",
       "      <td>73.200783</td>\n",
       "      <td>0.955750</td>\n",
       "      <td>0.134533</td>\n",
       "      <td>0.263218</td>\n",
       "      <td>1.424207</td>\n",
       "    </tr>\n",
       "  </tbody>\n",
       "</table>\n",
       "</div>"
      ],
      "text/plain": [
       "   CountryName RegionalIndicator  ...  PerceptionsOfCorruption   GDPPerCapita\n",
       "0      Finland    Western Europe  ...                 0.195445       1.285190\n",
       "1      Denmark    Western Europe  ...                 0.168489       1.326949\n",
       "2  Switzerland    Western Europe  ...                 0.303728       1.390774\n",
       "3      Iceland    Western Europe  ...                 0.711710       1.326502\n",
       "4       Norway    Western Europe  ...                 0.263218       1.424207\n",
       "\n",
       "[5 rows x 9 columns]"
      ]
     },
     "execution_count": 21,
     "metadata": {
      "tags": []
     },
     "output_type": "execute_result"
    }
   ],
   "source": [
    "df_tophappy"
   ]
  },
  {
   "cell_type": "code",
   "execution_count": 22,
   "metadata": {
    "colab": {
     "base_uri": "https://localhost:8080/",
     "height": 801
    },
    "executionInfo": {
     "elapsed": 400,
     "status": "ok",
     "timestamp": 1601950926233,
     "user": {
      "displayName": "Janelle Clarke Smith",
      "photoUrl": "https://lh3.googleusercontent.com/a-/AOh14GjMFmy2cFXTOrUMcJFs2itQXr2r-Zv5eFEMS2bp=s64",
      "userId": "08653829567306435222"
     },
     "user_tz": 240
    },
    "id": "LWlVXeCR5ga1",
    "outputId": "fb835668-e9f0-48f7-e1e1-43c3f792ca66"
   },
   "outputs": [
    {
     "name": "stderr",
     "output_type": "stream",
     "text": [
      "/usr/local/lib/python3.6/dist-packages/seaborn/_decorators.py:43: FutureWarning: Pass the following variables as keyword args: x, y. From version 0.12, the only valid positional argument will be `data`, and passing other arguments without an explicit keyword will result in an error or misinterpretation.\n",
      "  FutureWarning\n"
     ]
    },
    {
     "data": {
      "text/plain": [
       "Text(0, 0.5, 'Ladder Score')"
      ]
     },
     "execution_count": 22,
     "metadata": {
      "tags": []
     },
     "output_type": "execute_result"
    },
    {
     "data": {
      "image/png": "[encoded data removed]",
      "text/plain": [
       "<Figure size 864x864 with 1 Axes>"
      ]
     },
     "metadata": {
      "needs_background": "light",
      "tags": []
     },
     "output_type": "display_data"
    }
   ],
   "source": [
    "plt.figure(figsize=(12, 12))\n",
    "sns.barplot(df_tophappy.CountryName, df_tophappy.LadderScore)\n",
    "plt.ylim(7, 8)\n",
    "plt.title(\"Top 5 Happiest Countries\");\n",
    "plt.xlabel('Countries');\n",
    "plt.ylabel('Ladder Score')"
   ]
  },
  {
   "cell_type": "markdown",
   "metadata": {
    "id": "7A4P2nT-lvkU"
   },
   "source": [
    "What 5 countries have the lowest life expectancy?"
   ]
  },
  {
   "cell_type": "code",
   "execution_count": 23,
   "metadata": {
    "executionInfo": {
     "elapsed": 520,
     "status": "ok",
     "timestamp": 1601950936767,
     "user": {
      "displayName": "Janelle Clarke Smith",
      "photoUrl": "https://lh3.googleusercontent.com/a-/AOh14GjMFmy2cFXTOrUMcJFs2itQXr2r-Zv5eFEMS2bp=s64",
      "userId": "08653829567306435222"
     },
     "user_tz": 240
    },
    "id": "1JY7nISL5fKv"
   },
   "outputs": [],
   "source": [
    "df_shortlife = happy_df.loc[happy_df.HealthyLifeExpectancy <= 60].sort_values(by =\"HealthyLifeExpectancy\", ascending = True).head(5)"
   ]
  },
  {
   "cell_type": "code",
   "execution_count": 24,
   "metadata": {
    "colab": {
     "base_uri": "https://localhost:8080/",
     "height": 241
    },
    "executionInfo": {
     "elapsed": 299,
     "status": "ok",
     "timestamp": 1601950939239,
     "user": {
      "displayName": "Janelle Clarke Smith",
      "photoUrl": "https://lh3.googleusercontent.com/a-/AOh14GjMFmy2cFXTOrUMcJFs2itQXr2r-Zv5eFEMS2bp=s64",
      "userId": "08653829567306435222"
     },
     "user_tz": 240
    },
    "id": "4p4Hn3FcmaSq",
    "outputId": "afd82369-2b6b-4ed1-a23d-c6b8552de424"
   },
   "outputs": [
    {
     "data": {
      "text/html": [
       "<div>\n",
       "<style scoped>\n",
       "    .dataframe tbody tr th:only-of-type {\n",
       "        vertical-align: middle;\n",
       "    }\n",
       "\n",
       "    .dataframe tbody tr th {\n",
       "        vertical-align: top;\n",
       "    }\n",
       "\n",
       "    .dataframe thead th {\n",
       "        text-align: right;\n",
       "    }\n",
       "</style>\n",
       "<table border=\"1\" class=\"dataframe\">\n",
       "  <thead>\n",
       "    <tr style=\"text-align: right;\">\n",
       "      <th></th>\n",
       "      <th>CountryName</th>\n",
       "      <th>RegionalIndicator</th>\n",
       "      <th>LadderScore</th>\n",
       "      <th>SocialSupport</th>\n",
       "      <th>HealthyLifeExpectancy</th>\n",
       "      <th>FreedomToMakeLifehoices</th>\n",
       "      <th>Generosity</th>\n",
       "      <th>PerceptionsOfCorruption</th>\n",
       "      <th>GDPPerCapita</th>\n",
       "    </tr>\n",
       "  </thead>\n",
       "  <tbody>\n",
       "    <tr>\n",
       "      <th>148</th>\n",
       "      <td>Central African Republic</td>\n",
       "      <td>Sub-Saharan Africa</td>\n",
       "      <td>3.4759</td>\n",
       "      <td>0.319460</td>\n",
       "      <td>45.200001</td>\n",
       "      <td>0.640881</td>\n",
       "      <td>0.082410</td>\n",
       "      <td>0.891807</td>\n",
       "      <td>0.041072</td>\n",
       "    </tr>\n",
       "    <tr>\n",
       "      <th>142</th>\n",
       "      <td>Lesotho</td>\n",
       "      <td>Sub-Saharan Africa</td>\n",
       "      <td>3.6528</td>\n",
       "      <td>0.780496</td>\n",
       "      <td>48.003624</td>\n",
       "      <td>0.738126</td>\n",
       "      <td>-0.145732</td>\n",
       "      <td>0.857392</td>\n",
       "      <td>0.454939</td>\n",
       "    </tr>\n",
       "    <tr>\n",
       "      <th>126</th>\n",
       "      <td>Chad</td>\n",
       "      <td>Sub-Saharan Africa</td>\n",
       "      <td>4.4227</td>\n",
       "      <td>0.632388</td>\n",
       "      <td>48.220539</td>\n",
       "      <td>0.587305</td>\n",
       "      <td>0.017835</td>\n",
       "      <td>0.802761</td>\n",
       "      <td>0.302287</td>\n",
       "    </tr>\n",
       "    <tr>\n",
       "      <th>84</th>\n",
       "      <td>Ivory Coast</td>\n",
       "      <td>Sub-Saharan Africa</td>\n",
       "      <td>5.2333</td>\n",
       "      <td>0.658049</td>\n",
       "      <td>49.503773</td>\n",
       "      <td>0.727909</td>\n",
       "      <td>-0.043991</td>\n",
       "      <td>0.790772</td>\n",
       "      <td>0.537094</td>\n",
       "    </tr>\n",
       "    <tr>\n",
       "      <th>114</th>\n",
       "      <td>Nigeria</td>\n",
       "      <td>Sub-Saharan Africa</td>\n",
       "      <td>4.7241</td>\n",
       "      <td>0.737217</td>\n",
       "      <td>49.861908</td>\n",
       "      <td>0.759578</td>\n",
       "      <td>0.033746</td>\n",
       "      <td>0.861874</td>\n",
       "      <td>0.645902</td>\n",
       "    </tr>\n",
       "  </tbody>\n",
       "</table>\n",
       "</div>"
      ],
      "text/plain": [
       "                  CountryName  ...  GDPPerCapita\n",
       "148  Central African Republic  ...      0.041072\n",
       "142                   Lesotho  ...      0.454939\n",
       "126                      Chad  ...      0.302287\n",
       "84                Ivory Coast  ...      0.537094\n",
       "114                   Nigeria  ...      0.645902\n",
       "\n",
       "[5 rows x 9 columns]"
      ]
     },
     "execution_count": 24,
     "metadata": {
      "tags": []
     },
     "output_type": "execute_result"
    }
   ],
   "source": [
    "df_shortlife"
   ]
  },
  {
   "cell_type": "code",
   "execution_count": 25,
   "metadata": {
    "colab": {
     "base_uri": "https://localhost:8080/",
     "height": 801
    },
    "executionInfo": {
     "elapsed": 608,
     "status": "ok",
     "timestamp": 1601950948754,
     "user": {
      "displayName": "Janelle Clarke Smith",
      "photoUrl": "https://lh3.googleusercontent.com/a-/AOh14GjMFmy2cFXTOrUMcJFs2itQXr2r-Zv5eFEMS2bp=s64",
      "userId": "08653829567306435222"
     },
     "user_tz": 240
    },
    "id": "on6J9z7VmjHH",
    "outputId": "b3797e91-de0c-4ec9-bc3d-0f31d4829740"
   },
   "outputs": [
    {
     "name": "stderr",
     "output_type": "stream",
     "text": [
      "/usr/local/lib/python3.6/dist-packages/seaborn/_decorators.py:43: FutureWarning: Pass the following variables as keyword args: x, y. From version 0.12, the only valid positional argument will be `data`, and passing other arguments without an explicit keyword will result in an error or misinterpretation.\n",
      "  FutureWarning\n"
     ]
    },
    {
     "data": {
      "text/plain": [
       "Text(0, 0.5, 'Healthy Life Expectancy')"
      ]
     },
     "execution_count": 25,
     "metadata": {
      "tags": []
     },
     "output_type": "execute_result"
    },
    {
     "data": {
      "image/png": "[encoded data removed]",
      "text/plain": [
       "<Figure size 864x864 with 1 Axes>"
      ]
     },
     "metadata": {
      "needs_background": "light",
      "tags": []
     },
     "output_type": "display_data"
    }
   ],
   "source": [
    "plt.figure(figsize=(12, 12))\n",
    "sns.barplot(df_shortlife.CountryName, df_shortlife.HealthyLifeExpectancy)\n",
    "plt.ylim(40, 52)\n",
    "plt.title(\"Countries with the Lowest Life Expectancy\");\n",
    "plt.xlabel('Countries');\n",
    "plt.ylabel('Healthy Life Expectancy')"
   ]
  },
  {
   "cell_type": "markdown",
   "metadata": {
    "id": "Vpip9Ei9tPnn"
   },
   "source": [
    "What is the age distribution for the highest life expectancy?"
   ]
  },
  {
   "cell_type": "code",
   "execution_count": 26,
   "metadata": {
    "executionInfo": {
     "elapsed": 288,
     "status": "ok",
     "timestamp": 1601950955756,
     "user": {
      "displayName": "Janelle Clarke Smith",
      "photoUrl": "https://lh3.googleusercontent.com/a-/AOh14GjMFmy2cFXTOrUMcJFs2itQXr2r-Zv5eFEMS2bp=s64",
      "userId": "08653829567306435222"
     },
     "user_tz": 240
    },
    "id": "LqUhzonFtowM"
   },
   "outputs": [],
   "source": [
    "Higheslife = happy_df.HealthyLifeExpectancy.astype(int)\n"
   ]
  },
  {
   "cell_type": "code",
   "execution_count": 27,
   "metadata": {
    "colab": {
     "base_uri": "https://localhost:8080/",
     "height": 221
    },
    "executionInfo": {
     "elapsed": 303,
     "status": "ok",
     "timestamp": 1601950961456,
     "user": {
      "displayName": "Janelle Clarke Smith",
      "photoUrl": "https://lh3.googleusercontent.com/a-/AOh14GjMFmy2cFXTOrUMcJFs2itQXr2r-Zv5eFEMS2bp=s64",
      "userId": "08653829567306435222"
     },
     "user_tz": 240
    },
    "id": "XH-zU34O4LF_",
    "outputId": "cbc5e232-2ce6-4b95-d090-a7f19ed6a799"
   },
   "outputs": [
    {
     "data": {
      "text/plain": [
       "0      71\n",
       "1      72\n",
       "2      74\n",
       "3      73\n",
       "4      73\n",
       "       ..\n",
       "148    45\n",
       "149    61\n",
       "150    55\n",
       "151    51\n",
       "152    52\n",
       "Name: HealthyLifeExpectancy, Length: 153, dtype: int64"
      ]
     },
     "execution_count": 27,
     "metadata": {
      "tags": []
     },
     "output_type": "execute_result"
    }
   ],
   "source": [
    "Higheslife"
   ]
  },
  {
   "cell_type": "code",
   "execution_count": 28,
   "metadata": {
    "colab": {
     "base_uri": "https://localhost:8080/",
     "height": 456
    },
    "executionInfo": {
     "elapsed": 466,
     "status": "ok",
     "timestamp": 1601950975622,
     "user": {
      "displayName": "Janelle Clarke Smith",
      "photoUrl": "https://lh3.googleusercontent.com/a-/AOh14GjMFmy2cFXTOrUMcJFs2itQXr2r-Zv5eFEMS2bp=s64",
      "userId": "08653829567306435222"
     },
     "user_tz": 240
    },
    "id": "qZdSxo4o44xh",
    "outputId": "260b1371-dcfd-4d0c-b763-e1481a858563"
   },
   "outputs": [
    {
     "data": {
      "text/html": [
       "<div>\n",
       "<style scoped>\n",
       "    .dataframe tbody tr th:only-of-type {\n",
       "        vertical-align: middle;\n",
       "    }\n",
       "\n",
       "    .dataframe tbody tr th {\n",
       "        vertical-align: top;\n",
       "    }\n",
       "\n",
       "    .dataframe thead th {\n",
       "        text-align: right;\n",
       "    }\n",
       "</style>\n",
       "<table border=\"1\" class=\"dataframe\">\n",
       "  <thead>\n",
       "    <tr style=\"text-align: right;\">\n",
       "      <th></th>\n",
       "      <th>CountryName</th>\n",
       "      <th>RegionalIndicator</th>\n",
       "      <th>LadderScore</th>\n",
       "      <th>SocialSupport</th>\n",
       "      <th>HealthyLifeExpectancy</th>\n",
       "      <th>FreedomToMakeLifehoices</th>\n",
       "      <th>Generosity</th>\n",
       "      <th>PerceptionsOfCorruption</th>\n",
       "      <th>GDPPerCapita</th>\n",
       "      <th>HighestAge</th>\n",
       "    </tr>\n",
       "  </thead>\n",
       "  <tbody>\n",
       "    <tr>\n",
       "      <th>0</th>\n",
       "      <td>Finland</td>\n",
       "      <td>Western Europe</td>\n",
       "      <td>7.8087</td>\n",
       "      <td>0.954330</td>\n",
       "      <td>71.900825</td>\n",
       "      <td>0.949172</td>\n",
       "      <td>-0.059482</td>\n",
       "      <td>0.195445</td>\n",
       "      <td>1.285190</td>\n",
       "      <td>71</td>\n",
       "    </tr>\n",
       "    <tr>\n",
       "      <th>1</th>\n",
       "      <td>Denmark</td>\n",
       "      <td>Western Europe</td>\n",
       "      <td>7.6456</td>\n",
       "      <td>0.955991</td>\n",
       "      <td>72.402504</td>\n",
       "      <td>0.951444</td>\n",
       "      <td>0.066202</td>\n",
       "      <td>0.168489</td>\n",
       "      <td>1.326949</td>\n",
       "      <td>72</td>\n",
       "    </tr>\n",
       "    <tr>\n",
       "      <th>2</th>\n",
       "      <td>Switzerland</td>\n",
       "      <td>Western Europe</td>\n",
       "      <td>7.5599</td>\n",
       "      <td>0.942847</td>\n",
       "      <td>74.102448</td>\n",
       "      <td>0.921337</td>\n",
       "      <td>0.105911</td>\n",
       "      <td>0.303728</td>\n",
       "      <td>1.390774</td>\n",
       "      <td>74</td>\n",
       "    </tr>\n",
       "    <tr>\n",
       "      <th>3</th>\n",
       "      <td>Iceland</td>\n",
       "      <td>Western Europe</td>\n",
       "      <td>7.5045</td>\n",
       "      <td>0.974670</td>\n",
       "      <td>73.000000</td>\n",
       "      <td>0.948892</td>\n",
       "      <td>0.246944</td>\n",
       "      <td>0.711710</td>\n",
       "      <td>1.326502</td>\n",
       "      <td>73</td>\n",
       "    </tr>\n",
       "    <tr>\n",
       "      <th>4</th>\n",
       "      <td>Norway</td>\n",
       "      <td>Western Europe</td>\n",
       "      <td>7.4880</td>\n",
       "      <td>0.952487</td>\n",
       "      <td>73.200783</td>\n",
       "      <td>0.955750</td>\n",
       "      <td>0.134533</td>\n",
       "      <td>0.263218</td>\n",
       "      <td>1.424207</td>\n",
       "      <td>73</td>\n",
       "    </tr>\n",
       "    <tr>\n",
       "      <th>...</th>\n",
       "      <td>...</td>\n",
       "      <td>...</td>\n",
       "      <td>...</td>\n",
       "      <td>...</td>\n",
       "      <td>...</td>\n",
       "      <td>...</td>\n",
       "      <td>...</td>\n",
       "      <td>...</td>\n",
       "      <td>...</td>\n",
       "      <td>...</td>\n",
       "    </tr>\n",
       "    <tr>\n",
       "      <th>148</th>\n",
       "      <td>Central African Republic</td>\n",
       "      <td>Sub-Saharan Africa</td>\n",
       "      <td>3.4759</td>\n",
       "      <td>0.319460</td>\n",
       "      <td>45.200001</td>\n",
       "      <td>0.640881</td>\n",
       "      <td>0.082410</td>\n",
       "      <td>0.891807</td>\n",
       "      <td>0.041072</td>\n",
       "      <td>45</td>\n",
       "    </tr>\n",
       "    <tr>\n",
       "      <th>149</th>\n",
       "      <td>Rwanda</td>\n",
       "      <td>Sub-Saharan Africa</td>\n",
       "      <td>3.3123</td>\n",
       "      <td>0.540835</td>\n",
       "      <td>61.098846</td>\n",
       "      <td>0.900589</td>\n",
       "      <td>0.055484</td>\n",
       "      <td>0.183541</td>\n",
       "      <td>0.343243</td>\n",
       "      <td>61</td>\n",
       "    </tr>\n",
       "    <tr>\n",
       "      <th>150</th>\n",
       "      <td>Zimbabwe</td>\n",
       "      <td>Sub-Saharan Africa</td>\n",
       "      <td>3.2992</td>\n",
       "      <td>0.763093</td>\n",
       "      <td>55.617260</td>\n",
       "      <td>0.711458</td>\n",
       "      <td>-0.072064</td>\n",
       "      <td>0.810237</td>\n",
       "      <td>0.425564</td>\n",
       "      <td>55</td>\n",
       "    </tr>\n",
       "    <tr>\n",
       "      <th>151</th>\n",
       "      <td>South Sudan</td>\n",
       "      <td>Sub-Saharan Africa</td>\n",
       "      <td>2.8166</td>\n",
       "      <td>0.553707</td>\n",
       "      <td>51.000000</td>\n",
       "      <td>0.451314</td>\n",
       "      <td>0.016519</td>\n",
       "      <td>0.763417</td>\n",
       "      <td>0.289083</td>\n",
       "      <td>51</td>\n",
       "    </tr>\n",
       "    <tr>\n",
       "      <th>152</th>\n",
       "      <td>Afghanistan</td>\n",
       "      <td>South Asia</td>\n",
       "      <td>2.5669</td>\n",
       "      <td>0.470367</td>\n",
       "      <td>52.590000</td>\n",
       "      <td>0.396573</td>\n",
       "      <td>-0.096429</td>\n",
       "      <td>0.933687</td>\n",
       "      <td>0.300706</td>\n",
       "      <td>52</td>\n",
       "    </tr>\n",
       "  </tbody>\n",
       "</table>\n",
       "<p>153 rows × 10 columns</p>\n",
       "</div>"
      ],
      "text/plain": [
       "                  CountryName   RegionalIndicator  ...   GDPPerCapita  HighestAge\n",
       "0                     Finland      Western Europe  ...       1.285190          71\n",
       "1                     Denmark      Western Europe  ...       1.326949          72\n",
       "2                 Switzerland      Western Europe  ...       1.390774          74\n",
       "3                     Iceland      Western Europe  ...       1.326502          73\n",
       "4                      Norway      Western Europe  ...       1.424207          73\n",
       "..                        ...                 ...  ...            ...         ...\n",
       "148  Central African Republic  Sub-Saharan Africa  ...       0.041072          45\n",
       "149                    Rwanda  Sub-Saharan Africa  ...       0.343243          61\n",
       "150                  Zimbabwe  Sub-Saharan Africa  ...       0.425564          55\n",
       "151               South Sudan  Sub-Saharan Africa  ...       0.289083          51\n",
       "152               Afghanistan          South Asia  ...       0.300706          52\n",
       "\n",
       "[153 rows x 10 columns]"
      ]
     },
     "execution_count": 28,
     "metadata": {
      "tags": []
     },
     "output_type": "execute_result"
    }
   ],
   "source": [
    "happy_df['HighestAge'] = Higheslife\n",
    "happy_df"
   ]
  },
  {
   "cell_type": "code",
   "execution_count": 36,
   "metadata": {
    "colab": {
     "base_uri": "https://localhost:8080/",
     "height": 366
    },
    "executionInfo": {
     "elapsed": 872,
     "status": "ok",
     "timestamp": 1601952157383,
     "user": {
      "displayName": "Janelle Clarke Smith",
      "photoUrl": "https://lh3.googleusercontent.com/a-/AOh14GjMFmy2cFXTOrUMcJFs2itQXr2r-Zv5eFEMS2bp=s64",
      "userId": "08653829567306435222"
     },
     "user_tz": 240
    },
    "id": "1UKFr_UvwmLm",
    "outputId": "88e1d2a6-79be-4dcd-f83f-e66244b006c4"
   },
   "outputs": [
    {
     "name": "stderr",
     "output_type": "stream",
     "text": [
      "/usr/local/lib/python3.6/dist-packages/seaborn/distributions.py:2551: FutureWarning: `distplot` is a deprecated function and will be removed in a future version. Please adapt your code to use either `displot` (a figure-level function with similar flexibility) or `histplot` (an axes-level function for histograms).\n",
      "  warnings.warn(msg, FutureWarning)\n"
     ]
    },
    {
     "data": {
      "text/plain": [
       "Text(0.5, 0, 'Life Expectancy')"
      ]
     },
     "execution_count": 36,
     "metadata": {
      "tags": []
     },
     "output_type": "execute_result"
    },
    {
     "data": {
      "image/png": "[encoded data removed]",
      "text/plain": [
       "<Figure size 432x288 with 1 Axes>"
      ]
     },
     "metadata": {
      "needs_background": "light",
      "tags": []
     },
     "output_type": "display_data"
    }
   ],
   "source": [
    "plt.title('Age Distribution for the Life Expectancy')\n",
    "sns.distplot(happy_df.HighestAge);\n",
    "plt.xlabel('Life Expectancy')\n"
   ]
  },
  {
   "cell_type": "code",
   "execution_count": 42,
   "metadata": {
    "colab": {
     "base_uri": "https://localhost:8080/",
     "height": 544
    },
    "executionInfo": {
     "elapsed": 322,
     "status": "ok",
     "timestamp": 1601953066840,
     "user": {
      "displayName": "Janelle Clarke Smith",
      "photoUrl": "https://lh3.googleusercontent.com/a-/AOh14GjMFmy2cFXTOrUMcJFs2itQXr2r-Zv5eFEMS2bp=s64",
      "userId": "08653829567306435222"
     },
     "user_tz": 240
    },
    "id": "-IvjaDqWz4VR",
    "outputId": "b1b7bf8e-adea-4b79-cd8b-063ae5faa595"
   },
   "outputs": [
    {
     "data": {
      "text/plain": [
       "67    15\n",
       "66    14\n",
       "73    12\n",
       "72    11\n",
       "68    11\n",
       "64     8\n",
       "65     7\n",
       "69     6\n",
       "57     6\n",
       "55     5\n",
       "58     5\n",
       "62     5\n",
       "59     4\n",
       "54     4\n",
       "56     4\n",
       "61     4\n",
       "63     4\n",
       "51     3\n",
       "52     3\n",
       "70     3\n",
       "71     3\n",
       "53     3\n",
       "49     2\n",
       "48     2\n",
       "76     2\n",
       "60     2\n",
       "74     2\n",
       "50     1\n",
       "75     1\n",
       "45     1\n",
       "Name: HighestAge, dtype: int64"
      ]
     },
     "execution_count": 42,
     "metadata": {
      "tags": []
     },
     "output_type": "execute_result"
    }
   ],
   "source": [
    "Ages_Count = happy_df['HighestAge'].value_counts()\n",
    "Ages_Count"
   ]
  },
  {
   "cell_type": "markdown",
   "metadata": {
    "id": "Rc-2EHdM2BYC"
   },
   "source": [
    "Based on the results, the age with the highest life expectancy is **67**."
   ]
  },
  {
   "cell_type": "markdown",
   "metadata": {
    "id": "8SA83USG41NA"
   },
   "source": [
    "How does Corruption relate to the genorosity of a country?"
   ]
  },
  {
   "cell_type": "code",
   "execution_count": 43,
   "metadata": {
    "colab": {
     "base_uri": "https://localhost:8080/",
     "height": 350
    },
    "executionInfo": {
     "elapsed": 534,
     "status": "ok",
     "timestamp": 1601953950450,
     "user": {
      "displayName": "Janelle Clarke Smith",
      "photoUrl": "https://lh3.googleusercontent.com/a-/AOh14GjMFmy2cFXTOrUMcJFs2itQXr2r-Zv5eFEMS2bp=s64",
      "userId": "08653829567306435222"
     },
     "user_tz": 240
    },
    "id": "8AEMhjk74x8m",
    "outputId": "450a946b-a87a-41ab-a2f0-3055a95e5ccb"
   },
   "outputs": [
    {
     "name": "stderr",
     "output_type": "stream",
     "text": [
      "/usr/local/lib/python3.6/dist-packages/seaborn/_decorators.py:43: FutureWarning: Pass the following variables as keyword args: x, y. From version 0.12, the only valid positional argument will be `data`, and passing other arguments without an explicit keyword will result in an error or misinterpretation.\n",
      "  FutureWarning\n"
     ]
    },
    {
     "data": {
      "text/plain": [
       "<matplotlib.axes._subplots.AxesSubplot at 0x7f56792a6198>"
      ]
     },
     "execution_count": 43,
     "metadata": {
      "tags": []
     },
     "output_type": "execute_result"
    },
    {
     "data": {
      "image/png": "[encoded data removed]",
      "text/plain": [
       "<Figure size 432x288 with 1 Axes>"
      ]
     },
     "metadata": {
      "needs_background": "light",
      "tags": []
     },
     "output_type": "display_data"
    }
   ],
   "source": [
    "sns.scatterplot(happy_df.Generosity, happy_df.PerceptionsOfCorruption)"
   ]
  },
  {
   "cell_type": "markdown",
   "metadata": {
    "id": "ki2QX8T15auC"
   },
   "source": [
    "This chart shows that the lower the generosity the higher the corruption. It also shows a country can be very generous and still have a high level of corruption."
   ]
  },
  {
   "cell_type": "markdown",
   "metadata": {
    "id": "G5holOAo3TMl"
   },
   "source": [
    "The conclusion is that most of the happiest countries are in Europe and the most corupt countries and the countries with the lowest life expectency are in Africa. The age with the longest life expectation is 67. Generosity and Corruption  do not relate to each other."
   ]
  },
  {
   "cell_type": "code",
   "execution_count": 45,
   "metadata": {
    "executionInfo": {
     "elapsed": 1117,
     "status": "ok",
     "timestamp": 1601955050067,
     "user": {
      "displayName": "Janelle Clarke Smith",
      "photoUrl": "https://lh3.googleusercontent.com/a-/AOh14GjMFmy2cFXTOrUMcJFs2itQXr2r-Zv5eFEMS2bp=s64",
      "userId": "08653829567306435222"
     },
     "user_tz": 240
    },
    "id": "wfnhQ7kQ9hIw"
   },
   "outputs": [],
   "source": [
    "import jovian"
   ]
  },
  {
   "cell_type": "code",
   "execution_count": 46,
   "metadata": {
    "colab": {
     "base_uri": "https://localhost:8080/",
     "height": 51
    },
    "executionInfo": {
     "elapsed": 501,
     "status": "ok",
     "timestamp": 1601955055169,
     "user": {
      "displayName": "Janelle Clarke Smith",
      "photoUrl": "https://lh3.googleusercontent.com/a-/AOh14GjMFmy2cFXTOrUMcJFs2itQXr2r-Zv5eFEMS2bp=s64",
      "userId": "08653829567306435222"
     },
     "user_tz": 240
    },
    "id": "gIOeBv529aM8",
    "outputId": "0a747ab1-cec0-4e8e-f201-c62969808469"
   },
   "outputs": [
    {
     "name": "stdout",
     "output_type": "stream",
     "text": [
      "[jovian] Detected Colab notebook...\u001b[0m\n"
     ]
    },
    {
     "name": "stderr",
     "output_type": "stream",
     "text": [
      "\u001b[31m[jovian] Error: Please provide the project argument e.g. jovian.commit(project='my-project')\u001b[0m\n"
     ]
    }
   ],
   "source": [
    "import jovian"
   ]
  }
 ],
 "metadata": {
  "colab": {
   "collapsed_sections": [],
   "name": "Final Project.ipynb",
   "provenance": []
  },
  "kernelspec": {
   "display_name": "Python 3",
   "language": "python",
   "name": "python3"
  },
  "language_info": {
   "codemirror_mode": {
    "name": "ipython",
    "version": 3
   },
   "file_extension": ".py",
   "mimetype": "text/x-python",
   "name": "python",
   "nbconvert_exporter": "python",
   "pygments_lexer": "ipython3",
   "version": "3.7.8"
  }
 },
 "nbformat": 4,
 "nbformat_minor": 0
}